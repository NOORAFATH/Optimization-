{
 "cells": [
  {
   "cell_type": "markdown",
   "id": "cd383f3e",
   "metadata": {},
   "source": [
    "libraries"
   ]
  },
  {
   "cell_type": "code",
   "execution_count": 1,
   "id": "41ee485d",
   "metadata": {},
   "outputs": [],
   "source": [
    "from pyomo.environ import *\n",
    "from brooks import *\n",
    "import pandas as pd"
   ]
  },
  {
   "cell_type": "code",
   "execution_count": 2,
   "id": "e6c5737c",
   "metadata": {},
   "outputs": [],
   "source": [
    "sample_data = pd.read_excel(\"Sample data.xlsx\", \n",
    "                          sheet_name=\"sample_data\")\n",
    "team_data = pd.read_excel(\"Sample data.xlsx\", \n",
    "                          sheet_name=\"Team_data\")\n",
    "exp_data = pd.read_excel(\"Sample data.xlsx\", \n",
    "                          sheet_name=\"Expertise_data\")\n",
    "data = pd.read_excel(\"Sample data.xlsx\", \n",
    "                          sheet_name=\"data\")\n",
    "data_2 = pd.read_excel(\"Sample data.xlsx\", \n",
    "                          sheet_name=\"data2\")\n",
    "\n",
    "\n",
    "W = list(sample_data[\"Worker_ID\"])\n",
    "T = list(team_data[\"Teams\"])\n",
    "F = list(data_2[\"Function\"])\n",
    "E =list(exp_data[\"Expertise\"])\n",
    "P =list(data[\"A.Experience\"])\n",
    "Z =list(data[\"Time_zone\"])\n",
    "R =list(data_2[\"years_of_experience\"])\n",
    "C = list(data_2[\"Experience\"])\n",
    "###\n",
    "teams_max = 20\n",
    "function = 3\n",
    "agile_cost = 2286\n",
    "time_cost = 200\n",
    "exp_cost=100\n",
    "product_cost = 50\n",
    "et_cost = 80\n",
    "member=10\n",
    "fs =1\n",
    "fm =1\n",
    "ts=2\n",
    "tm=2"
   ]
  },
  {
   "cell_type": "markdown",
   "id": "a62d0353",
   "metadata": {},
   "source": [
    "defining Model"
   ]
  },
  {
   "cell_type": "code",
   "execution_count": 3,
   "id": "48c67e5d",
   "metadata": {},
   "outputs": [],
   "source": [
    "model = Model()"
   ]
  },
  {
   "cell_type": "markdown",
   "id": "47e33719",
   "metadata": {},
   "source": [
    "defining variables"
   ]
  },
  {
   "cell_type": "code",
   "execution_count": 4,
   "id": "972cc737",
   "metadata": {
    "scrolled": true
   },
   "outputs": [],
   "source": [
    "if hasattr(model,'x'):\n",
    "    model.delete(model.x)\n",
    "model.x = Var(W,T, domain = Binary)"
   ]
  },
  {
   "cell_type": "code",
   "execution_count": 5,
   "id": "450632cb",
   "metadata": {},
   "outputs": [],
   "source": [
    "if hasattr(model,'y'):\n",
    "    model.delete(model.y)\n",
    "model.y = Var(T,Z, domain = Binary)"
   ]
  },
  {
   "cell_type": "code",
   "execution_count": 6,
   "id": "c1c29387",
   "metadata": {},
   "outputs": [],
   "source": [
    "if hasattr(model,'z'):\n",
    "    model.delete(model.z)\n",
    "model.z = Var(T, domain = Binary )"
   ]
  },
  {
   "cell_type": "code",
   "execution_count": 7,
   "id": "5ea5f42f",
   "metadata": {},
   "outputs": [],
   "source": [
    "if hasattr(model,'c'):\n",
    "    model.delete(model.c)\n",
    "model.c = Var(T,C, domain = NonNegativeIntegers)"
   ]
  },
  {
   "cell_type": "code",
   "execution_count": 8,
   "id": "3260767b",
   "metadata": {},
   "outputs": [],
   "source": [
    "if hasattr(model,'f'):\n",
    "    model.delete(model.f)\n",
    "model.f = Var(T,F, domain = NonNegativeIntegers)"
   ]
  },
  {
   "cell_type": "code",
   "execution_count": 9,
   "id": "68a7a163",
   "metadata": {},
   "outputs": [],
   "source": [
    "if hasattr(model,'a'):\n",
    "    model.delete(model.a)\n",
    "model.a = Var(T, domain = Binary )"
   ]
  },
  {
   "cell_type": "code",
   "execution_count": 10,
   "id": "96c16d7d",
   "metadata": {},
   "outputs": [],
   "source": [
    "if hasattr(model,'ae'):\n",
    "    model.delete(model.ae)\n",
    "model.ae = Var(T, domain = NonNegativeIntegers )"
   ]
  },
  {
   "cell_type": "code",
   "execution_count": 11,
   "id": "72cc1cf7",
   "metadata": {
    "scrolled": true
   },
   "outputs": [],
   "source": [
    "if hasattr(model,'ts'):\n",
    "    model.delete(model.ts)\n",
    "model.ts = Var(T, domain = NonNegativeReals, bounds = (0,2))"
   ]
  },
  {
   "cell_type": "code",
   "execution_count": 12,
   "id": "b0a56cab",
   "metadata": {
    "scrolled": true
   },
   "outputs": [],
   "source": [
    "if hasattr(model,'tm'):\n",
    "    model.delete(model.tm)\n",
    "model.tm = Var(T, domain = NonNegativeReals, bounds = (0,2))"
   ]
  },
  {
   "cell_type": "code",
   "execution_count": 13,
   "id": "462c9b91",
   "metadata": {},
   "outputs": [],
   "source": [
    "if hasattr(model,'fs'):\n",
    "    model.delete(model.fs)\n",
    "model.fs = Var(T,C,domain = NonNegativeIntegers, bounds = (0,1))"
   ]
  },
  {
   "cell_type": "code",
   "execution_count": 14,
   "id": "49abe3ce",
   "metadata": {},
   "outputs": [],
   "source": [
    "if hasattr(model,'fm'):\n",
    "    model.delete(model.fm)\n",
    "model.fm = Var(T,C,domain = NonNegativeIntegers, bounds = (0,1))"
   ]
  },
  {
   "cell_type": "code",
   "execution_count": 15,
   "id": "01f431cd",
   "metadata": {},
   "outputs": [],
   "source": [
    "if hasattr(model,'fps'):\n",
    "    model.delete(model.fpplus)\n",
    "model.fpplus = Var(T,F,domain = NonNegativeIntegers, bounds = (0,1))"
   ]
  },
  {
   "cell_type": "code",
   "execution_count": 16,
   "id": "062e3810",
   "metadata": {},
   "outputs": [],
   "source": [
    "if hasattr(model,'fpm'):\n",
    "    model.delete(model.fpm)\n",
    "model.fpm = Var(T,F,domain = NonNegativeIntegers, bounds = (0,1))"
   ]
  },
  {
   "cell_type": "markdown",
   "id": "cadf8813",
   "metadata": {},
   "source": [
    " Define Objective Function "
   ]
  },
  {
   "cell_type": "code",
   "execution_count": 17,
   "id": "3a333bdd",
   "metadata": {},
   "outputs": [],
   "source": [
    "if hasattr(model, 'cost_objective'):\n",
    "    model.delete(model.cost_objective)\n",
    "\n",
    "model.cost_objective = Objective(expr = (agile_cost*sum(model.z[j]  for j in T))+ (time_cost*sum(model.y[j,k] for j in T for k in Z)) + (exp_cost*sum(model.fs[j,k] + model.fm[j,k] for j in T for k in C))+ (product_cost*sum(model.x[i,j] for i in W for j in T ))+ (et_cost*sum(model.x[i,j] for i in W for j in T )) ,sense=minimize)\n"
   ]
  },
  {
   "cell_type": "markdown",
   "id": "99e44f8f",
   "metadata": {},
   "source": [
    "Defining Constraints"
   ]
  },
  {
   "cell_type": "code",
   "execution_count": 18,
   "id": "eb9f6630",
   "metadata": {},
   "outputs": [],
   "source": [
    "\n",
    "if hasattr(model, 'allocation_constraint'):\n",
    "    model.delete(model.allocation_constraint)\n",
    "model.allocation_constraint = ConstraintList()\n",
    "for i in W:\n",
    "    if E != \"Scrum Master\":\n",
    "        model.allocation_constraint.add(sum(model.x[i,j] for j in T) == 1)\n"
   ]
  },
  {
   "cell_type": "code",
   "execution_count": 19,
   "id": "cc5a7492",
   "metadata": {},
   "outputs": [],
   "source": [
    "\n",
    "if hasattr(model, 'teamsize_constraint'):\n",
    "    model.delete(model.teamsize_constraint)\n",
    "model.teamsize_constraint = ConstraintList()\n",
    "for j in T:\n",
    "    model.teamsize_constraint.add(sum(model.x[i,j] for i in W) <= (10+ts-tm))"
   ]
  },
  {
   "cell_type": "code",
   "execution_count": 20,
   "id": "26080f1c",
   "metadata": {},
   "outputs": [],
   "source": [
    "\n",
    "if hasattr(model, 'Expertise_constraint'):\n",
    "    model.delete(model.Expertise_constraint)\n",
    "model.Expertise_constraint = ConstraintList()\n",
    "for k in C:\n",
    "    model.Expertise_constraint.add(sum(model.c[j,k] for j in T) <= (2.5+ fs -fm))"
   ]
  },
  {
   "cell_type": "code",
   "execution_count": 21,
   "id": "d28c32d0",
   "metadata": {},
   "outputs": [],
   "source": [
    "\n",
    "if hasattr(model,'owner_constraint'):\n",
    "    model.delete(model.owner_constraint)\n",
    "if F == \"R\":\n",
    "    model.owner_constraint = ConstraintList()\n",
    "    for j in T:\n",
    "        model.owner_constraint.add(sum(model.x[i,j] for i in W) >= 1)\n"
   ]
  },
  {
   "cell_type": "code",
   "execution_count": 22,
   "id": "fb02b914",
   "metadata": {},
   "outputs": [],
   "source": [
    "\n",
    "if hasattr(model, 'functional_constraint'):\n",
    "    model.delete(model.functional_constraint)\n",
    "model.functional_constraint = ConstraintList()\n",
    "for j in T:\n",
    "    for k in F:\n",
    "        if k != \"Scrum\":\n",
    "            if F == k:\n",
    "                model.functional_constraint.add(sum(model.x[i,j] for i in W  ) == function+model.fps[j,k]-model.fpm[j,k])"
   ]
  },
  {
   "cell_type": "code",
   "execution_count": 23,
   "id": "0700d8ae",
   "metadata": {
    "scrolled": true
   },
   "outputs": [],
   "source": [
    "\n",
    "if hasattr(model, 'agile_constraint'):\n",
    "    model.delete(model.agile_constraint)\n",
    "model.agile_constraint = ConstraintList()\n",
    "for j in T:\n",
    "    for i in W:\n",
    "        if P == \"Hands-on experience\":\n",
    "            model.agile_constraint.add(sum(model.x[i,j])>= model.a[j])"
   ]
  },
  {
   "cell_type": "code",
   "execution_count": 24,
   "id": "2ff6af70",
   "metadata": {},
   "outputs": [],
   "source": [
    "if hasattr(model, 'need_constraint'):\n",
    "    model.delete(model.need_constraint)\n",
    "model.need_constraint= ConstraintList()\n",
    "for j in T:\n",
    "    for i in W:\n",
    "        if P == \"Hands-on experience\":\n",
    "             model.need_constraint.add(sum(model.x[i,j]) - 0.2* sum(model.x[i,j] for i in W)) >= -10*(1-model.ae[j])\n",
    "    \n"
   ]
  },
  {
   "cell_type": "markdown",
   "id": "ee759ee9",
   "metadata": {},
   "source": [
    "Using gurobi solver"
   ]
  },
  {
   "cell_type": "code",
   "execution_count": 25,
   "id": "f8ccc597",
   "metadata": {},
   "outputs": [],
   "source": [
    "solver = SolverFactory('gurobi',solver_io=\"python\")\n",
    "status = solver.solve(model)"
   ]
  },
  {
   "cell_type": "code",
   "execution_count": 26,
   "id": "f5a66a2c",
   "metadata": {},
   "outputs": [
    {
     "name": "stdout",
     "output_type": "stream",
     "text": [
      "status = \n",
      "Problem: \n",
      "- Name: unknown\n",
      "  Lower bound: 26000.0\n",
      "  Upper bound: 26000.0\n",
      "  Number of objectives: 1\n",
      "  Number of constraints: 224\n",
      "  Number of variables: 4640\n",
      "  Number of binary variables: 4100\n",
      "  Number of integer variables: 4600\n",
      "  Number of continuous variables: -4060\n",
      "  Number of nonzeros: 8080\n",
      "  Sense: 1\n",
      "  Number of solutions: 1\n",
      "Solver: \n",
      "- Name: Gurobi 9.51\n",
      "  Status: ok\n",
      "  Wallclock time: 0.05953407287597656\n",
      "  Termination condition: optimal\n",
      "  Termination message: Model was solved to optimality (subject to tolerances), and an optimal solution is available.\n",
      "Solution: \n",
      "- number of solutions: 0\n",
      "  number of solutions displayed: 0\n",
      "\n"
     ]
    }
   ],
   "source": [
    "print('status = %s' % status)"
   ]
  },
  {
   "cell_type": "markdown",
   "id": "e8dce64a",
   "metadata": {},
   "source": [
    "printing result"
   ]
  },
  {
   "cell_type": "code",
   "execution_count": 27,
   "id": "5980c187",
   "metadata": {},
   "outputs": [
    {
     "name": "stdout",
     "output_type": "stream",
     "text": [
      "x[101,19] =1.000000\n",
      "x[102,19] =1.000000\n",
      "x[103,20] =1.000000\n",
      "x[104,12] =1.000000\n",
      "x[105,14] =1.000000\n",
      "x[106,5] =1.000000\n",
      "x[107,6] =1.000000\n",
      "x[108,1] =1.000000\n",
      "x[109,4] =1.000000\n",
      "x[110,9] =1.000000\n",
      "x[111,10] =1.000000\n",
      "x[112,16] =1.000000\n",
      "x[113,15] =1.000000\n",
      "x[114,11] =1.000000\n",
      "x[115,11] =1.000000\n",
      "x[116,2] =1.000000\n",
      "x[117,9] =1.000000\n",
      "x[118,11] =1.000000\n",
      "x[119,15] =1.000000\n",
      "x[120,5] =1.000000\n",
      "x[121,10] =1.000000\n",
      "x[122,15] =1.000000\n",
      "x[123,10] =1.000000\n",
      "x[124,6] =1.000000\n",
      "x[125,4] =1.000000\n",
      "x[126,3] =1.000000\n",
      "x[127,3] =1.000000\n",
      "x[128,13] =1.000000\n",
      "x[129,7] =1.000000\n",
      "x[130,12] =1.000000\n",
      "x[131,11] =1.000000\n",
      "x[132,11] =1.000000\n",
      "x[133,18] =1.000000\n",
      "x[134,18] =1.000000\n",
      "x[135,16] =1.000000\n",
      "x[136,10] =1.000000\n",
      "x[137,1] =1.000000\n",
      "x[138,5] =1.000000\n",
      "x[139,8] =1.000000\n",
      "x[140,18] =1.000000\n",
      "x[141,9] =1.000000\n",
      "x[142,8] =1.000000\n",
      "x[143,13] =1.000000\n",
      "x[144,8] =1.000000\n",
      "x[145,4] =1.000000\n",
      "x[146,2] =1.000000\n",
      "x[147,11] =1.000000\n",
      "x[148,2] =1.000000\n",
      "x[149,10] =1.000000\n",
      "x[150,4] =1.000000\n",
      "x[151,4] =1.000000\n",
      "x[152,3] =1.000000\n",
      "x[153,17] =1.000000\n",
      "x[154,2] =1.000000\n",
      "x[155,13] =1.000000\n",
      "x[156,12] =1.000000\n",
      "x[157,19] =1.000000\n",
      "x[158,17] =1.000000\n",
      "x[159,19] =1.000000\n",
      "x[160,17] =1.000000\n",
      "x[161,14] =1.000000\n",
      "x[162,6] =1.000000\n",
      "x[163,18] =1.000000\n",
      "x[164,17] =1.000000\n",
      "x[165,3] =1.000000\n",
      "x[166,14] =1.000000\n",
      "x[167,11] =1.000000\n",
      "x[168,9] =1.000000\n",
      "x[169,19] =1.000000\n",
      "x[170,13] =1.000000\n",
      "x[171,18] =1.000000\n",
      "x[172,18] =1.000000\n",
      "x[173,2] =1.000000\n",
      "x[174,3] =1.000000\n",
      "x[175,4] =1.000000\n",
      "x[176,2] =1.000000\n",
      "x[177,18] =1.000000\n",
      "x[178,7] =1.000000\n",
      "x[179,8] =1.000000\n",
      "x[180,16] =1.000000\n",
      "x[181,8] =1.000000\n",
      "x[182,2] =1.000000\n",
      "x[183,13] =1.000000\n",
      "x[184,3] =1.000000\n",
      "x[185,2] =1.000000\n",
      "x[186,11] =1.000000\n",
      "x[187,19] =1.000000\n",
      "x[188,7] =1.000000\n",
      "x[189,9] =1.000000\n",
      "x[190,4] =1.000000\n",
      "x[191,16] =1.000000\n",
      "x[192,17] =1.000000\n",
      "x[193,16] =1.000000\n",
      "x[194,13] =1.000000\n",
      "x[195,17] =1.000000\n",
      "x[196,7] =1.000000\n",
      "x[197,9] =1.000000\n",
      "x[198,20] =1.000000\n",
      "x[199,5] =1.000000\n",
      "x[200,1] =1.000000\n",
      "x[201,8] =1.000000\n",
      "x[202,2] =1.000000\n",
      "x[203,8] =1.000000\n",
      "x[204,16] =1.000000\n",
      "x[205,1] =1.000000\n",
      "x[206,9] =1.000000\n",
      "x[207,4] =1.000000\n",
      "x[208,17] =1.000000\n",
      "x[209,19] =1.000000\n",
      "x[210,7] =1.000000\n",
      "x[211,19] =1.000000\n",
      "x[212,17] =1.000000\n",
      "x[213,8] =1.000000\n",
      "x[214,16] =1.000000\n",
      "x[215,14] =1.000000\n",
      "x[216,16] =1.000000\n",
      "x[217,17] =1.000000\n",
      "x[218,13] =1.000000\n",
      "x[219,5] =1.000000\n",
      "x[220,5] =1.000000\n",
      "x[221,6] =1.000000\n",
      "x[222,3] =1.000000\n",
      "x[223,11] =1.000000\n",
      "x[224,10] =1.000000\n",
      "x[225,7] =1.000000\n",
      "x[226,1] =1.000000\n",
      "x[227,2] =1.000000\n",
      "x[228,12] =1.000000\n",
      "x[229,3] =1.000000\n",
      "x[230,8] =1.000000\n",
      "x[231,12] =1.000000\n",
      "x[232,7] =1.000000\n",
      "x[233,13] =1.000000\n",
      "x[234,19] =1.000000\n",
      "x[235,11] =1.000000\n",
      "x[236,14] =1.000000\n",
      "x[237,4] =1.000000\n",
      "x[238,7] =1.000000\n",
      "x[239,1] =1.000000\n",
      "x[240,18] =1.000000\n",
      "x[241,10] =1.000000\n",
      "x[242,7] =1.000000\n",
      "x[243,8] =1.000000\n",
      "x[244,6] =1.000000\n",
      "x[245,15] =1.000000\n",
      "x[246,12] =1.000000\n",
      "x[247,16] =1.000000\n",
      "x[248,7] =1.000000\n",
      "x[249,15] =1.000000\n",
      "x[250,1] =1.000000\n",
      "x[251,16] =1.000000\n",
      "x[252,3] =1.000000\n",
      "x[253,6] =1.000000\n",
      "x[254,10] =1.000000\n",
      "x[255,5] =1.000000\n",
      "x[256,13] =1.000000\n",
      "x[257,1] =1.000000\n",
      "x[258,12] =1.000000\n",
      "x[259,12] =1.000000\n",
      "x[260,15] =1.000000\n",
      "x[261,13] =1.000000\n",
      "x[262,20] =1.000000\n",
      "x[263,18] =1.000000\n",
      "x[264,10] =1.000000\n",
      "x[265,12] =1.000000\n",
      "x[266,1] =1.000000\n",
      "x[267,14] =1.000000\n",
      "x[268,9] =1.000000\n",
      "x[269,4] =1.000000\n",
      "x[270,9] =1.000000\n",
      "x[271,9] =1.000000\n",
      "x[272,17] =1.000000\n",
      "x[273,12] =1.000000\n",
      "x[274,18] =1.000000\n",
      "x[275,6] =1.000000\n",
      "x[276,1] =1.000000\n",
      "x[277,15] =1.000000\n",
      "x[278,14] =1.000000\n",
      "x[279,19] =1.000000\n",
      "x[280,20] =1.000000\n",
      "x[281,15] =1.000000\n",
      "x[282,10] =1.000000\n",
      "x[283,14] =1.000000\n",
      "x[284,20] =1.000000\n",
      "x[285,20] =1.000000\n",
      "x[286,5] =1.000000\n",
      "x[287,15] =1.000000\n",
      "x[288,6] =1.000000\n",
      "x[289,20] =1.000000\n",
      "x[290,14] =1.000000\n",
      "x[291,14] =1.000000\n",
      "x[292,20] =1.000000\n",
      "x[293,20] =1.000000\n",
      "x[294,6] =1.000000\n",
      "x[295,20] =1.000000\n",
      "x[296,6] =1.000000\n",
      "x[297,15] =1.000000\n",
      "x[298,3] =1.000000\n",
      "x[299,5] =1.000000\n",
      "x[300,5] =1.000000\n",
      "objective = 26000.000000\n"
     ]
    }
   ],
   "source": [
    "for i in W:\n",
    "    for j in T:\n",
    "        if value(model.x[i,j])>0:\n",
    "            print('%s =%f' % (model.x[i,j], value(model.x[i,j])))\n",
    "print(\"objective = %f\" % value(model.cost_objective))"
   ]
  },
  {
   "cell_type": "code",
   "execution_count": null,
   "id": "5cf38697",
   "metadata": {},
   "outputs": [],
   "source": []
  },
  {
   "cell_type": "code",
   "execution_count": null,
   "id": "a32dfb40",
   "metadata": {},
   "outputs": [],
   "source": []
  }
 ],
 "metadata": {
  "kernelspec": {
   "display_name": "Python 3 (ipykernel)",
   "language": "python",
   "name": "python3"
  },
  "language_info": {
   "codemirror_mode": {
    "name": "ipython",
    "version": 3
   },
   "file_extension": ".py",
   "mimetype": "text/x-python",
   "name": "python",
   "nbconvert_exporter": "python",
   "pygments_lexer": "ipython3",
   "version": "3.9.7"
  }
 },
 "nbformat": 4,
 "nbformat_minor": 5
}
